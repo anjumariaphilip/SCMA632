{
  "nbformat": 4,
  "nbformat_minor": 0,
  "metadata": {
    "colab": {
      "provenance": []
    },
    "kernelspec": {
      "name": "python3",
      "display_name": "Python 3"
    },
    "language_info": {
      "name": "python"
    }
  },
  "cells": [
    {
      "cell_type": "code",
      "execution_count": 19,
      "metadata": {
        "id": "4NQtLlFShznO"
      },
      "outputs": [],
      "source": [
        "import pandas as pd\n",
        "import numpy as np\n",
        "import statsmodels.api as sm"
      ]
    },
    {
      "cell_type": "code",
      "source": [],
      "metadata": {
        "id": "OU8FCVnKlRuu"
      },
      "execution_count": null,
      "outputs": []
    },
    {
      "cell_type": "code",
      "source": [
        "data = pd.read_csv(\"/content/NSSO68 new.csv\")"
      ],
      "metadata": {
        "id": "qdhYx_rmiEbo"
      },
      "execution_count": 3,
      "outputs": []
    },
    {
      "cell_type": "code",
      "source": [
        "print(data.info())"
      ],
      "metadata": {
        "colab": {
          "base_uri": "https://localhost:8080/"
        },
        "id": "X7_HPBzmiwbX",
        "outputId": "4f8c1b4a-8013-43e8-f3af-a237edc38be2"
      },
      "execution_count": 4,
      "outputs": [
        {
          "output_type": "stream",
          "name": "stdout",
          "text": [
            "<class 'pandas.core.frame.DataFrame'>\n",
            "RangeIndex: 8538 entries, 0 to 8537\n",
            "Columns: 384 entries, slno to fv_tot\n",
            "dtypes: float64(303), int64(80), object(1)\n",
            "memory usage: 25.0+ MB\n",
            "None\n"
          ]
        }
      ]
    },
    {
      "cell_type": "code",
      "source": [
        "Odisha_data = data[data['state_1'] == \"ORI\"].copy()"
      ],
      "metadata": {
        "id": "FGqKpqv-jFvi"
      },
      "execution_count": 25,
      "outputs": []
    },
    {
      "cell_type": "code",
      "source": [
        "relevant_columns = [\"foodtotal_q\", \"Meals_At_Home\", \"Possess_ration_card\", \"Age\", \"MPCE_URP\", \"MPCE_MRP\"]\n",
        "Odisha_data= Odisha_data[relevant_columns].copy()"
      ],
      "metadata": {
        "id": "UwYj-l34jQ5o"
      },
      "execution_count": 26,
      "outputs": []
    },
    {
      "cell_type": "code",
      "source": [
        "print(Odisha_data.head())"
      ],
      "metadata": {
        "colab": {
          "base_uri": "https://localhost:8080/"
        },
        "id": "xSCJti_ojXE-",
        "outputId": "fe3a7594-0e49-4f15-9a5b-68e394ed7902"
      },
      "execution_count": 27,
      "outputs": [
        {
          "output_type": "stream",
          "name": "stdout",
          "text": [
            "     foodtotal_q  Meals_At_Home  Possess_ration_card  Age  MPCE_URP  MPCE_MRP\n",
            "741    33.110413           60.0                  2.0   31   3455.50   3844.95\n",
            "742    31.683645           60.0                  1.0   42   2572.67   2377.28\n",
            "743    25.575244           60.0                  1.0   53   1792.75   2039.86\n",
            "744    24.920166           60.0                  1.0   60    880.00    970.04\n",
            "745    24.742780           90.0                  1.0   35    854.50    935.56\n"
          ]
        }
      ]
    },
    {
      "cell_type": "code",
      "source": [
        "print(Odisha_data.isnull().sum())"
      ],
      "metadata": {
        "colab": {
          "base_uri": "https://localhost:8080/"
        },
        "id": "3QLb5u0AjcJf",
        "outputId": "de4464a1-9468-4a4f-b871-348060ba6d92"
      },
      "execution_count": 28,
      "outputs": [
        {
          "output_type": "stream",
          "name": "stdout",
          "text": [
            "foodtotal_q             0\n",
            "Meals_At_Home          40\n",
            "Possess_ration_card     0\n",
            "Age                     0\n",
            "MPCE_URP                0\n",
            "MPCE_MRP                0\n",
            "dtype: int64\n"
          ]
        }
      ]
    },
    {
      "cell_type": "code",
      "source": [
        "cleaned_data = Odisha_data.dropna()"
      ],
      "metadata": {
        "id": "nYgZdtpHjjhP"
      },
      "execution_count": 29,
      "outputs": []
    },
    {
      "cell_type": "code",
      "source": [
        "print(cleaned_data.shape[0])"
      ],
      "metadata": {
        "colab": {
          "base_uri": "https://localhost:8080/"
        },
        "id": "i2Jq3KnLjtPs",
        "outputId": "272cc1df-a2f7-4c43-ad5f-d1a704a2e8c4"
      },
      "execution_count": 11,
      "outputs": [
        {
          "output_type": "stream",
          "name": "stdout",
          "text": [
            "1013\n"
          ]
        }
      ]
    },
    {
      "cell_type": "code",
      "source": [
        "X = cleaned_data[[\"Meals_At_Home\", \"Possess_ration_card\", \"Age\", \"MPCE_URP\", \"MPCE_MRP\"]]\n",
        "y = cleaned_data[\"foodtotal_q\"]"
      ],
      "metadata": {
        "id": "bSk9nbCpjyDU"
      },
      "execution_count": 30,
      "outputs": []
    },
    {
      "cell_type": "code",
      "source": [
        "X = sm.add_constant(X)"
      ],
      "metadata": {
        "id": "BG2Wv5zOj58K"
      },
      "execution_count": 31,
      "outputs": []
    },
    {
      "cell_type": "code",
      "source": [
        "model = sm.OLS(y, X).fit()"
      ],
      "metadata": {
        "id": "o7UDDOnMj8km"
      },
      "execution_count": 32,
      "outputs": []
    },
    {
      "cell_type": "code",
      "source": [
        "print(model.summary())"
      ],
      "metadata": {
        "colab": {
          "base_uri": "https://localhost:8080/"
        },
        "id": "yAbYoe19kDB9",
        "outputId": "93fd1481-50f2-40bb-9340-e2df4cd76f73"
      },
      "execution_count": 33,
      "outputs": [
        {
          "output_type": "stream",
          "name": "stdout",
          "text": [
            "                            OLS Regression Results                            \n",
            "==============================================================================\n",
            "Dep. Variable:            foodtotal_q   R-squared:                       0.334\n",
            "Model:                            OLS   Adj. R-squared:                  0.331\n",
            "Method:                 Least Squares   F-statistic:                     101.0\n",
            "Date:                Sun, 23 Jun 2024   Prob (F-statistic):           2.10e-86\n",
            "Time:                        10:53:58   Log-Likelihood:                -3404.2\n",
            "No. Observations:                1013   AIC:                             6820.\n",
            "Df Residuals:                    1007   BIC:                             6850.\n",
            "Df Model:                           5                                         \n",
            "Covariance Type:            nonrobust                                         \n",
            "=======================================================================================\n",
            "                          coef    std err          t      P>|t|      [0.025      0.975]\n",
            "---------------------------------------------------------------------------------------\n",
            "const                   4.6109      1.497      3.081      0.002       1.674       7.548\n",
            "Meals_At_Home           0.1545      0.012     12.774      0.000       0.131       0.178\n",
            "Possess_ration_card    -0.0047      0.473     -0.010      0.992      -0.933       0.924\n",
            "Age                     0.0752      0.018      4.274      0.000       0.041       0.110\n",
            "MPCE_URP                0.0011      0.000      5.160      0.000       0.001       0.001\n",
            "MPCE_MRP                0.0017      0.000      8.449      0.000       0.001       0.002\n",
            "==============================================================================\n",
            "Omnibus:                      211.654   Durbin-Watson:                   1.512\n",
            "Prob(Omnibus):                  0.000   Jarque-Bera (JB):             1935.790\n",
            "Skew:                           0.679   Prob(JB):                         0.00\n",
            "Kurtosis:                       9.635   Cond. No.                     2.51e+04\n",
            "==============================================================================\n",
            "\n",
            "Notes:\n",
            "[1] Standard Errors assume that the covariance matrix of the errors is correctly specified.\n",
            "[2] The condition number is large, 2.51e+04. This might indicate that there are\n",
            "strong multicollinearity or other numerical problems.\n"
          ]
        }
      ]
    },
    {
      "cell_type": "code",
      "source": [],
      "metadata": {
        "id": "nmJl4P8-kMw7"
      },
      "execution_count": null,
      "outputs": []
    }
  ]
}